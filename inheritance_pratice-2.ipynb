{
 "cells": [
  {
   "cell_type": "markdown",
   "id": "c3e31794",
   "metadata": {},
   "source": [
    "Create a class pets from a class Animals and further create class Dog from Pets.Add a method bark to class Dog."
   ]
  },
  {
   "cell_type": "code",
   "execution_count": 1,
   "id": "40788d58",
   "metadata": {},
   "outputs": [
    {
     "name": "stdout",
     "output_type": "stream",
     "text": [
      "Bow bow!\n"
     ]
    }
   ],
   "source": [
    "class Animal:\n",
    "    animalType = \"Mammal\"\n",
    "\n",
    "class Pets:\n",
    "    animalType = \"White\"\n",
    "    \n",
    "class Dog:\n",
    "    @staticmethod\n",
    "    def bark():\n",
    "        print(\"Bow bow!\")\n",
    "    \n",
    "d = Dog()\n",
    "d.bark()\n",
    "        "
   ]
  },
  {
   "cell_type": "code",
   "execution_count": null,
   "id": "76c98582",
   "metadata": {},
   "outputs": [],
   "source": []
  }
 ],
 "metadata": {
  "kernelspec": {
   "display_name": "Python 3 (ipykernel)",
   "language": "python",
   "name": "python3"
  },
  "language_info": {
   "codemirror_mode": {
    "name": "ipython",
    "version": 3
   },
   "file_extension": ".py",
   "mimetype": "text/x-python",
   "name": "python",
   "nbconvert_exporter": "python",
   "pygments_lexer": "ipython3",
   "version": "3.9.7"
  }
 },
 "nbformat": 4,
 "nbformat_minor": 5
}
